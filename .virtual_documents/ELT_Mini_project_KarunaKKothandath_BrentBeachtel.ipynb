# Import dependencies
import pandas as pd
import numpy as np
import re
pd.set_option('max_colwidth', 400)





# Read the data into a Pandas DataFrame
crowdfunding_info_df = pd.read_excel('Resources/crowdfunding.xlsx')
crowdfunding_info_df.head()


# Get a brief summary of the crowdfunding_info DataFrame.
crowdfunding_info_df.info()





# Get the crowdfunding_info_df columns.
crowdfunding_info_df.columns


# Assign the category and subcategory values to category and subcategory columns.
crowdfunding_info_df[['category','subcategory']]=crowdfunding_info_df['category & sub-category'].str.split('/',expand=True)
crowdfunding_info_df.head()


# Get the unique categories and subcategories in separate lists.
categories=crowdfunding_info_df['category'].unique()
subcategories=crowdfunding_info_df['subcategory'].unique()
print(categories)
print(subcategories)


# Get the number of distinct values in the categories and subcategories lists.
print(len(categories))
print(len(subcategories))


# Create numpy arrays from 1-9 for the categories and 1-24 for the subcategories.
category_ids = np.arange(1, 10)
subcategory_ids = np.arange(1, 25)

print(category_ids)
print(subcategory_ids)


# Use a list comprehension to add "cat" to each category_id. 
cat_ids=["cat"+str(i) for i in category_ids]
# Use a list comprehension to add "subcat" to each subcategory_id.    
scat_ids=["subcat"+str(i) for i in subcategory_ids]
    
print(cat_ids)
print(scat_ids)


# Create a category DataFrame with the category_id array as the category_id and categories list as the category name.
category_df=pd.DataFrame({'category_id':cat_ids,
              'category':categories})
# Create a category DataFrame with the subcategory_id array as the subcategory_id and subcategories list as the subcategory name. 
subcategory_df=pd.DataFrame({'subcategory_id':scat_ids,
                             'subcategory':subcategories})


category_df


subcategory_df


# Export categories_df and subcategories_df as CSV files.
category_df.to_csv("Resources/category.csv", index=False)

subcategory_df.to_csv("Resources/subcategory.csv", index=False)





# Create a copy of the crowdfunding_info_df DataFrame name campaign_df. 
campaign_df = crowdfunding_info_df.copy()
campaign_df.head()


# Rename the blurb, launched_at, and deadline columns.
campaign_df=campaign_df.rename(columns={'blurb':'description',
                            'launched_at':'launched_date',
                            'deadline':'end_date'})
campaign_df.head()


# Convert the goal and pledged columns to a `float` data type.
campaign_df['goal']=campaign_df['goal'].astype('float')
campaign_df['pledged']=campaign_df['pledged'].astype('float')
campaign_df.head()


# Format the launched_date and end_date columns to datetime format
from datetime import datetime as dt
campaign_df['launched_date']=pd.to_datetime(campaign_df['launched_date'],unit='s').dt.normalize()
campaign_df['end_date']=pd.to_datetime(campaign_df['end_date'],unit='s').dt.normalize()

campaign_df.head()


# Merge the campaign_df with the category_df on the "category" column and 
cat_df=pd.merge(campaign_df,category_df, on='category',how='left')
# the subcategory_df on the "subcategory" column.
campaign_merged_df=pd.merge(cat_df,subcategory_df,on='subcategory',how='left')
campaign_merged_df.tail(10)


# Drop unwanted columns
campaign_cleaned=campaign_merged_df.drop(['staff_pick','spotlight','category & sub-category','category','subcategory'],axis=1)
campaign_cleaned.head()


campaign_cleaned.info()


# Export the DataFrame as a CSV file. 
campaign_cleaned.to_csv("Resources/campaign.csv", index=False)





# Read the data into a Pandas DataFrame. Use the `header=3` parameter when reading in the data.
contact_info_df = pd.read_excel('Resources/contacts.xlsx', header=3)
contact_info_df.head()








# Iterate through the contact_info_df and convert each row to a dictionary.
import json
dict_values=[]
contact_values=contact_info_df.values.tolist()

for rows in contact_values:
       
    new_row=json.loads(rows[0])
    contact_id=new_row['contact_id']
    name=new_row['name']
    email=new_row['email']
    dict_values.extend([[contact_id,name,email]])
   
    
# Print out the list of values for each row.
print(dict_values)


# Create a contact_info DataFrame and add each list of values, i.e., each row 
# to the 'contact_id', 'name', 'email' columns.
contact_info=pd.DataFrame(dict_values)
contact_info.columns=['contact_id','name','email']
contact_info.head()    


# Check the datatypes.
contact_info.info()


# Create a "first"name" and "last_name" column with the first and last names from the "name" column. 
contact_info[['first_name','last_name']]=contact_info['name'].str.split(' ',expand=True)

# Drop the contact_name column
del contact_info['name']
contact_info.head(10)


# Reorder the columns
contacts_df_clean=contact_info[['contact_id','first_name','last_name','email']]
contacts_df_clean.head()


# Check the datatypes one more time before exporting as CSV file.
contacts_df_clean.info()


# Export the DataFrame as a CSV file. 
contacts_df_clean.to_csv("Resources/contacts.csv", encoding='utf8', index=False)





contact_info_df_copy = contact_info_df.copy()
contact_info_df_copy.head()


# Extract the four-digit contact ID number.
contact_list=contact_info_df_copy.values.tolist()
list=[]
contact_id=[]
for i in range(len(contact_list)):
    contacts_list=json.loads(contact_list[i][0])
    list.append(contacts_list)


for i in range(len(contact_list)):
    id=re.findall('[0-9]{4}',contact_list[i][0])
    contact_id.append(id)
contact_list = [str(element) for element in contact_id]      

contact_info_df_copy['contact_id']=contact_id
contact_info_df_copy['contact_id'] = contact_info_df_copy['contact_id'].str[0]
contact_info_df_copy.head(10)



# Check the datatypes.
contact_info_df_copy.info()


# Convert the "contact_id" column to an int64 data type.
contact_info_df_copy['contact_id']=contact_info_df_copy['contact_id'].astype('int64')
contact_info_df_copy.info()


# Extract the name of the contact and add it to a new column.
word_values=[]
words=[]
contact_list=contact_info_df_copy.values.tolist()
list=[]
contact_id=[]
for i in range(len(contact_list)):
    contacts_list=json.loads(contact_list[i][0])
    words.append(contacts_list)


for i in range(len(contact_list)):
    name= re.findall('[A-Z][a-z]{2,}\s[A-Z][a-z]{2,}',contact_list[i][0])
    word_values.append(name)
    
   
contact_info_df_copy['name']=word_values
contact_info_df_copy['name'] = contact_info_df_copy['name'].str[0]
contact_info_df_copy.head(10)
    
contact_info_df_copy.head(10)



# Extract the email from the contacts and add the values to a new column.
email_values=[]
emails=[]
contact_list=contact_info_df_copy.values.tolist()

for i in range(len(contact_list)):
    contacts_list=json.loads(contact_list[i][0])
    emails.append(contacts_list)


for i in range(len(contact_list)):
    email= re.findall(r'\w+(?:[.-]?\w+)*@\w+(?:\.[A-Za-z]{2,3})+(?![A-Za-z])',contact_list[i][0])
    email_values.append(email)
   
   
contact_info_df_copy['email']=email_values 
contact_info_df_copy['email'] = contact_info_df_copy['email'].str[0]
contact_info_df_copy.head(10)



# Create a copy of the contact_info_df with the 'contact_id', 'name', 'email' columns.
contacts_df_clean=contact_info_df_copy.copy()
del contacts_df_clean['contact_info']
contacts_df_clean.head(10)


# Create a "first"name" and "last_name" column with the first and last names from the "name" column. 
contacts_df_clean[['first_name','last_name']]=contacts_df_clean['name'].str.split(' ',expand=True)

# Drop the contact_name column
del contacts_df_clean['name']
contacts_df_clean.head(10)


# Reorder the columns
contacts_df_clean=contacts_df_clean[['contact_id','first_name','last_name','email']]
contacts_df_clean.head(10)


# Check the datatypes one more time before exporting as CSV file.
contacts_df_clean.info()


# Export the DataFrame as a CSV file. 
contacts_df_clean.to_csv("Resources/contacts.csv", encoding='utf8', index=False)



